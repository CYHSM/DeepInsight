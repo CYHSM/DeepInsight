{
 "cells": [
  {
   "cell_type": "code",
   "execution_count": null,
   "metadata": {},
   "outputs": [],
   "source": [
    "# Import DeepInsight\n",
    "import sys\n",
    "sys.path.insert(0, \"/home/marx/Documents/Github/DeepInsight\")\n",
    "import deepinsight\n",
    "# Choose GPU\n",
    "import os\n",
    "os.environ[\"CUDA_VISIBLE_DEVICES\"]=\"\"\n",
    "\n",
    "import numpy as np\n",
    "import h5py\n",
    "%load_ext autoreload\n",
    "%autoreload 2"
   ]
  },
  {
   "cell_type": "code",
   "execution_count": null,
   "metadata": {},
   "outputs": [],
   "source": [
    "fp_deepinsight = './test.h5'\n",
    "input_length = int(3e5)\n",
    "input_channels = 5\n",
    "sampling_rate = 30000\n",
    "input_output_ratio = 100\n",
    "\n",
    "np.random.seed(0)\n",
    "rand_input = np.sin(np.random.rand(int(input_length), input_channels))\n",
    "rand_input_timesteps = np.arange(0, input_length)\n",
    "rand_output = np.random.rand(input_length // input_output_ratio)\n",
    "rand_timesteps = np.arange(0, input_length, input_output_ratio)\n",
    "\n",
    "print(rand_input[0,0])\n",
    "print(rand_input_timesteps[0:10])\n",
    "print(rand_output[0])\n",
    "print(rand_timesteps[0:10])"
   ]
  },
  {
   "cell_type": "code",
   "execution_count": null,
   "metadata": {},
   "outputs": [],
   "source": []
  },
  {
   "cell_type": "code",
   "execution_count": null,
   "metadata": {},
   "outputs": [],
   "source": [
    "# Transform raw data to frequency domain\n",
    "deepinsight.preprocess.preprocess_input(fp_deepinsight, rand_input, sampling_rate=sampling_rate)\n"
   ]
  },
  {
   "cell_type": "code",
   "execution_count": null,
   "metadata": {},
   "outputs": [],
   "source": [
    "hdf5_file = h5py.File(fp_deepinsight, mode='r')\n",
    "\n",
    "# Get size of wavelets\n",
    "input_wavelets = hdf5_file['inputs/wavelets']\n",
    "# Check statistics of wavelets\n",
    "np.testing.assert_almost_equal(np.mean(input_wavelets), 0.048329726)\n",
    "np.testing.assert_almost_equal(np.std(input_wavelets), 0.032383125)\n",
    "np.testing.assert_almost_equal(np.median(input_wavelets), 0.04608967)\n",
    "np.testing.assert_almost_equal(np.max(input_wavelets), 0.40853173)\n",
    "np.testing.assert_almost_equal(np.min(input_wavelets), 1.6544704e-05)"
   ]
  },
  {
   "cell_type": "code",
   "execution_count": null,
   "metadata": {},
   "outputs": [],
   "source": [
    "np.min(input_wavelets)"
   ]
  },
  {
   "cell_type": "code",
   "execution_count": null,
   "metadata": {},
   "outputs": [],
   "source": []
  },
  {
   "cell_type": "code",
   "execution_count": null,
   "metadata": {},
   "outputs": [],
   "source": [
    "# Prepare outputs\n",
    "deepinsight.preprocess.preprocess_output(fp_deepinsight, rand_input_timesteps, rand_output,\n",
    "                                           rand_timesteps)"
   ]
  },
  {
   "cell_type": "code",
   "execution_count": null,
   "metadata": {
    "scrolled": true
   },
   "outputs": [],
   "source": [
    "# Define loss functions and train model\n",
    "loss_functions = {'output_aligned' : 'mse'}\n",
    "loss_weights = {'output_aligned' : 1}\n",
    "user_opts = {'epochs' : 2, 'steps_per_epoch' : 10, 'validation_steps' : 10, 'log_output' : False, 'save_model' : False}\n",
    "\n",
    "deepinsight.train.run_from_path(fp_deepinsight, loss_functions, loss_weights, user_opts)"
   ]
  },
  {
   "cell_type": "code",
   "execution_count": null,
   "metadata": {},
   "outputs": [],
   "source": [
    "# Get loss and shuffled loss for influence plot, both is also stored back to HDF5 file\n",
    "losses, output_predictions, indices = deepinsight.analyse.get_model_loss(fp_deepinsight, stepsize=10)"
   ]
  },
  {
   "cell_type": "code",
   "execution_count": null,
   "metadata": {},
   "outputs": [],
   "source": [
    "shuffled_losses = deepinsight.analyse.get_shuffled_model_loss(fp_deepinsight, axis=1,stepsize=10)"
   ]
  },
  {
   "cell_type": "code",
   "execution_count": null,
   "metadata": {
    "scrolled": true
   },
   "outputs": [],
   "source": [
    "deepinsight.visualize.plot_residuals(fp_deepinsight, frequency_spacing=2,\n",
    "                                     output_names=['output_aligned'])"
   ]
  },
  {
   "cell_type": "code",
   "execution_count": null,
   "metadata": {},
   "outputs": [],
   "source": [
    "# from tqdm.notebook import tqdm\n",
    "# import time\n",
    "# for i1 in tqdm(range(5), ncols='50%'):\n",
    "#     for i2 in tqdm(range(30), leave=False, ncols='25%'):\n",
    "#         # do something, e.g. sleep\n",
    "#         time.sleep(0.1)"
   ]
  },
  {
   "cell_type": "code",
   "execution_count": null,
   "metadata": {},
   "outputs": [],
   "source": []
  }
 ],
 "metadata": {
  "kernelspec": {
   "display_name": "Python 3.6.8 64-bit ('kerastf': conda)",
   "language": "python",
   "name": "python36864bitkerastfconda4ca468b6403847f0a298defb95588ee9"
  },
  "language_info": {
   "codemirror_mode": {
    "name": "ipython",
    "version": 3
   },
   "file_extension": ".py",
   "mimetype": "text/x-python",
   "name": "python",
   "nbconvert_exporter": "python",
   "pygments_lexer": "ipython3",
   "version": "3.6.8"
  }
 },
 "nbformat": 4,
 "nbformat_minor": 2
}
