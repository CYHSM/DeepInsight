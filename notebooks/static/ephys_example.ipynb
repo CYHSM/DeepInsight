{
 "cells": [
  {
   "cell_type": "markdown",
   "metadata": {},
   "source": [
    "---\n",
    "---\n",
    "\n",
    "# Introduction to DeepInsight - Decoding position, speed and head direction from tetrode CA1 recordings\n",
    "\n",
    "This notebook stands as an example of how to use DeepInsight v0.5 on tetrode data and can be used as a guide on how to adapt it to your own datasets. All methods are stored in the deepinsight library and can be called directly or in their respective submodules. A typical workflow might look like the following: \n",
    "- Load your dataset into a format which can be directly indexed (numpy array or pointer to a file on disk)\n",
    "- Preprocess the raw data (wavelet transformation)\n",
    "- Preprocess your outputs (the variable you want to decode)\n",
    "- Define appropriate loss functions for your output and train the model \n",
    "- Predict performance across all cross validated models\n",
    "- Visualize influence of different input frequencies on model output\n"
   ]
  },
  {
   "cell_type": "code",
   "execution_count": null,
   "metadata": {},
   "outputs": [],
   "source": [
    "# Import DeepInsight\n",
    "import sys\n",
    "sys.path.insert(0, \"/home/marx/Documents/Github/DeepInsight\")\n",
    "import deepinsight\n",
    "# Choose GPU\n",
    "import os\n",
    "os.environ[\"CUDA_VISIBLE_DEVICES\"]=\"0\""
   ]
  },
  {
   "cell_type": "markdown",
   "metadata": {},
   "source": [
    "---\n",
    "---\n",
    "Here you can define the paths to your raw data files, and create file names for the preprocessed HDF5 datasets.\n",
    "\n",
    "The data we use here is usually relatively large in its raw format. Running it through the next lines takes roughly 24 hours for a 40 minute recording.\n",
    "\n",
    "We provide a preprocess file to play with the code. See next cell"
   ]
  },
  {
   "cell_type": "code",
   "execution_count": null,
   "metadata": {},
   "outputs": [],
   "source": [
    "# Define base paths\n",
    "base_path = './example_data/'\n",
    "fp_raw_file = base_path + 'experiment_1.nwb' # This is your raw file\n",
    "fp_deepinsight = base_path + 'processed_R2478.h5' # This will be the processed HDF5 file\n",
    "\n",
    "if os.path.exists(fp_raw_file):\n",
    "    # Load data \n",
    "    (raw_data,\n",
    "     raw_timestamps,\n",
    "     output,\n",
    "     output_timestamps,\n",
    "     info) = deepinsight.util.tetrode.read_tetrode_data(fp_raw_file)\n",
    "    # Transform raw data to frequency domain\n",
    "    deepinsight.preprocess.preprocess_input(fp_deepinsight, raw_data, sampling_rate=info['sampling_rate'],\n",
    "                                            channels=info['channels'])\n",
    "    # Prepare outputs\n",
    "    deepinsight.util.tetrode.preprocess_output(fp_deepinsight, raw_timestamps, output,\n",
    "                                               output_timestamps, sampling_rate=info['sampling_rate'])"
   ]
  },
  {
   "cell_type": "markdown",
   "metadata": {},
   "source": [
    "---\n",
    "---\n",
    "The above steps create a HDF5 file with all important data for training the model.\n",
    "\n",
    "You can download the preprocessed dataset by running the following command"
   ]
  },
  {
   "cell_type": "code",
   "execution_count": null,
   "metadata": {},
   "outputs": [],
   "source": [
    "!wget https://ndownloader.figshare.com/files/20150468 -O ./example_data/processed_R2478.h5"
   ]
  },
  {
   "cell_type": "markdown",
   "metadata": {},
   "source": [
    "---\n",
    "---\n",
    "Now we can train the model. \n",
    "\n",
    "The following command uses 5 cross validations to train the models and stores weights in HDF5 files"
   ]
  },
  {
   "cell_type": "code",
   "execution_count": null,
   "metadata": {},
   "outputs": [],
   "source": [
    "# Define loss functions and train model\n",
    "loss_functions = {'position' : 'euclidean_loss', \n",
    "                  'head_direction' : 'cyclical_mae_rad', \n",
    "                  'speed' : 'mae'}\n",
    "loss_weights = {'position' : 1, \n",
    "                'head_direction' : 25, \n",
    "                'speed' : 2}\n",
    "deepinsight.train.run_from_path(fp_deepinsight, loss_functions, loss_weights)"
   ]
  },
  {
   "cell_type": "code",
   "execution_count": null,
   "metadata": {
    "scrolled": true
   },
   "outputs": [],
   "source": [
    "# Get loss and shuffled loss for influence plot, both is also stored back to HDF5 file\n",
    "losses, output_predictions, indices = deepinsight.analyse.get_model_loss(fp_deepinsight,\n",
    "                                                                         stepsize=10)\n",
    "shuffled_losses = deepinsight.analyse.get_shuffled_model_loss(fp_deepinsight, axis=1,\n",
    "                                                              stepsize=10)"
   ]
  },
  {
   "cell_type": "markdown",
   "metadata": {},
   "source": [
    "---\n",
    "---\n",
    "Above line calculates the loss and shuffled loss across the full experiment and writes it back to the HDF5 file.\n",
    "\n",
    "Below command visualizes the influence across different frequency bands for all samples\n",
    "\n",
    "Note that Figure 3 in the manuscript shows influence across animals, while this plot shows the influence for one animal across the experiment"
   ]
  },
  {
   "cell_type": "code",
   "execution_count": null,
   "metadata": {},
   "outputs": [],
   "source": [
    "# Plot influence across behaviours\n",
    "deepinsight.visualize.plot_residuals(fp_deepinsight, frequency_spacing=2,\n",
    "                                     output_names=['Position', 'Head Direction', 'Speed'])"
   ]
  },
  {
   "cell_type": "markdown",
   "metadata": {},
   "source": [
    "---\n",
    "---"
   ]
  }
 ],
 "metadata": {
  "kernelspec": {
   "display_name": "Python 3",
   "language": "python",
   "name": "python3"
  },
  "language_info": {
   "codemirror_mode": {
    "name": "ipython",
    "version": 3
   },
   "file_extension": ".py",
   "mimetype": "text/x-python",
   "name": "python",
   "nbconvert_exporter": "python",
   "pygments_lexer": "ipython3",
   "version": "3.7.10"
  }
 },
 "nbformat": 4,
 "nbformat_minor": 2
}
